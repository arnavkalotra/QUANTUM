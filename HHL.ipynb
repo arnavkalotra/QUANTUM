{
 "cells": [
  {
   "cell_type": "code",
   "execution_count": 19,
   "metadata": {},
   "outputs": [
    {
     "ename": "ModuleNotFoundError",
     "evalue": "No module named 'qiskit_algorithms.linear_solvers'",
     "output_type": "error",
     "traceback": [
      "\u001b[0;31m---------------------------------------------------------------------------\u001b[0m",
      "\u001b[0;31mModuleNotFoundError\u001b[0m                       Traceback (most recent call last)",
      "\u001b[1;32m/Users/arnav/Desktop/QNTM/HHL.ipynb Cell 1\u001b[0m line \u001b[0;36m3\n\u001b[1;32m      <a href='vscode-notebook-cell:/Users/arnav/Desktop/QNTM/HHL.ipynb#W0sZmlsZQ%3D%3D?line=0'>1</a>\u001b[0m \u001b[39mimport\u001b[39;00m \u001b[39mnumpy\u001b[39;00m \u001b[39mas\u001b[39;00m \u001b[39mnp\u001b[39;00m\n\u001b[1;32m      <a href='vscode-notebook-cell:/Users/arnav/Desktop/QNTM/HHL.ipynb#W0sZmlsZQ%3D%3D?line=1'>2</a>\u001b[0m \u001b[39mfrom\u001b[39;00m \u001b[39mqiskit\u001b[39;00m \u001b[39mimport\u001b[39;00m QuantumCircuit\n\u001b[0;32m----> <a href='vscode-notebook-cell:/Users/arnav/Desktop/QNTM/HHL.ipynb#W0sZmlsZQ%3D%3D?line=2'>3</a>\u001b[0m \u001b[39mfrom\u001b[39;00m \u001b[39mqiskit_algorithms\u001b[39;00m\u001b[39m.\u001b[39;00m\u001b[39mlinear_solvers\u001b[39;00m\u001b[39m.\u001b[39;00m\u001b[39mhhl\u001b[39;00m \u001b[39mimport\u001b[39;00m HHL\n\u001b[1;32m      <a href='vscode-notebook-cell:/Users/arnav/Desktop/QNTM/HHL.ipynb#W0sZmlsZQ%3D%3D?line=3'>4</a>\u001b[0m \u001b[39mfrom\u001b[39;00m \u001b[39mqiskit\u001b[39;00m\u001b[39m.\u001b[39;00m\u001b[39malgorithms\u001b[39;00m\u001b[39m.\u001b[39;00m\u001b[39mlinear_solvers\u001b[39;00m\u001b[39m.\u001b[39;00m\u001b[39mmatrices\u001b[39;00m \u001b[39mimport\u001b[39;00m TridiagonalToeplitz\n\u001b[1;32m      <a href='vscode-notebook-cell:/Users/arnav/Desktop/QNTM/HHL.ipynb#W0sZmlsZQ%3D%3D?line=4'>5</a>\u001b[0m \u001b[39mfrom\u001b[39;00m \u001b[39mqiskit\u001b[39;00m\u001b[39m.\u001b[39;00m\u001b[39malgorithms\u001b[39;00m\u001b[39m.\u001b[39;00m\u001b[39mlinear_solvers\u001b[39;00m\u001b[39m.\u001b[39;00m\u001b[39mobservables\u001b[39;00m \u001b[39mimport\u001b[39;00m MatrixFunctional\n",
      "\u001b[0;31mModuleNotFoundError\u001b[0m: No module named 'qiskit_algorithms.linear_solvers'"
     ]
    }
   ],
   "source": [
    "import numpy as np\n",
    "from qiskit import QuantumCircuit\n",
    "from qiskit_algorithms.linear_solvers.hhl import HHL\n",
    "from qiskit_algorithms.linear_solvers.matrices import TridiagonalToeplitz\n",
    "from qiskit_algorithms.linear_solvers.observables import MatrixFunctional\n",
    " \n",
    "matrix = TridiagonalToeplitz(2, 1, 1 / 3, trotter_steps=2)\n",
    "right_hand_side = [1.0, -2.1, 3.2, -4.3]\n",
    "observable = MatrixFunctional(1, 1 / 2)\n",
    "rhs = right_hand_side / np.linalg.norm(right_hand_side)\n",
    " \n",
    "# Initial state circuit\n",
    "num_qubits = matrix.num_state_qubits\n",
    "qc = QuantumCircuit(num_qubits)\n",
    "qc.isometry(rhs, list(range(num_qubits)), None)\n",
    " \n",
    "hhl = HHL()\n",
    "solution = hhl.solve(matrix, qc, observable)\n",
    "approx_result = solution.observable"
   ]
  }
 ],
 "metadata": {
  "kernelspec": {
   "display_name": "bas",
   "language": "python",
   "name": "python3"
  },
  "language_info": {
   "codemirror_mode": {
    "name": "ipython",
    "version": 3
   },
   "file_extension": ".py",
   "mimetype": "text/x-python",
   "name": "python",
   "nbconvert_exporter": "python",
   "pygments_lexer": "ipython3",
   "version": "3.10.11"
  },
  "orig_nbformat": 4
 },
 "nbformat": 4,
 "nbformat_minor": 2
}
